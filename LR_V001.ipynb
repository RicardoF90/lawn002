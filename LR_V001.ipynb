{
  "nbformat": 4,
  "nbformat_minor": 0,
  "metadata": {
    "colab": {
      "name": "LR_V001.ipynb",
      "provenance": [],
      "collapsed_sections": [],
      "mount_file_id": "1orkSP-yNaEozVoJbEN9kHUyxoy7neHku",
      "authorship_tag": "ABX9TyOBu2qxnZ92C3ttNWqArtcQ",
      "include_colab_link": true
    },
    "kernelspec": {
      "display_name": "Python 3",
      "name": "python3"
    },
    "language_info": {
      "name": "python"
    },
    "accelerator": "GPU"
  },
  "cells": [
    {
      "cell_type": "markdown",
      "metadata": {
        "id": "view-in-github",
        "colab_type": "text"
      },
      "source": [
        "<a href=\"https://colab.research.google.com/github/RicardoF90/lawn002/blob/main/LR_V001.ipynb\" target=\"_parent\"><img src=\"https://colab.research.google.com/assets/colab-badge.svg\" alt=\"Open In Colab\"/></a>"
      ]
    },
    {
      "cell_type": "code",
      "metadata": {
        "colab": {
          "base_uri": "https://localhost:8080/",
          "height": 1000
        },
        "id": "I4AidJfe0bTC",
        "outputId": "f92ba122-b475-46d4-e81d-d0dcb88659ab"
      },
      "source": [
        "!pip install keras_segmentation\n",
        "import tensorflow  as tf\n",
        "from google.colab import files\n",
        "from tensorflow import keras \n",
        "from keras_segmentation.models.unet import vgg_unet\n",
        "SM_FRAMEWORK=tf.keras\n",
        "model = vgg_unet(n_classes=2 , input_height=416, input_width=608)\n",
        "\n",
        "model.train(\n",
        "    train_images = (\"/usr/local/training\"),    \n",
        "    train_annotations = (\"/usr/local/annotation_train\") ,\n",
        "    checkpoints_path = (\"/usr/local/vgg_unet_1_config.json\") , epochs=20\n",
        ")\n",
        "\n",
        "out = model.predict_segmentation(\n",
        "    inp=\"dataset1/images_prepped_test/0016E5_07965.png\",\n",
        "    out_fname=\"/tmp/out.png\"\n",
        ")\n",
        "\n",
        "import matplotlib.pyplot as plt\n",
        "plt.imshow(out)\n",
        "\n",
        "# evaluating the model \n",
        "print(model.evaluate_segmentation( inp_images_dir=\"dataset1/images_prepped_test/\"  , annotations_dir=\"dataset1/annotations_prepped_test/\" ) )"
      ],
      "execution_count": 3,
      "outputs": [
        {
          "output_type": "stream",
          "name": "stdout",
          "text": [
            "Requirement already satisfied: keras_segmentation in /usr/local/lib/python3.7/dist-packages (0.3.0)\n",
            "Requirement already satisfied: imgaug==0.2.9 in /usr/local/lib/python3.7/dist-packages (from keras_segmentation) (0.2.9)\n",
            "Requirement already satisfied: Keras>=2.0.0 in /usr/local/lib/python3.7/dist-packages (from keras_segmentation) (2.6.0)\n",
            "Requirement already satisfied: opencv-python in /usr/local/lib/python3.7/dist-packages (from keras_segmentation) (4.1.2.30)\n",
            "Requirement already satisfied: imageio==2.5.0 in /usr/local/lib/python3.7/dist-packages (from keras_segmentation) (2.5.0)\n",
            "Requirement already satisfied: tqdm in /usr/local/lib/python3.7/dist-packages (from keras_segmentation) (4.62.0)\n",
            "Requirement already satisfied: numpy in /usr/local/lib/python3.7/dist-packages (from imageio==2.5.0->keras_segmentation) (1.19.5)\n",
            "Requirement already satisfied: pillow in /usr/local/lib/python3.7/dist-packages (from imageio==2.5.0->keras_segmentation) (7.1.2)\n",
            "Requirement already satisfied: scipy in /usr/local/lib/python3.7/dist-packages (from imgaug==0.2.9->keras_segmentation) (1.4.1)\n",
            "Requirement already satisfied: scikit-image>=0.11.0 in /usr/local/lib/python3.7/dist-packages (from imgaug==0.2.9->keras_segmentation) (0.16.2)\n",
            "Requirement already satisfied: six in /usr/local/lib/python3.7/dist-packages (from imgaug==0.2.9->keras_segmentation) (1.15.0)\n",
            "Requirement already satisfied: matplotlib in /usr/local/lib/python3.7/dist-packages (from imgaug==0.2.9->keras_segmentation) (3.2.2)\n",
            "Requirement already satisfied: Shapely in /usr/local/lib/python3.7/dist-packages (from imgaug==0.2.9->keras_segmentation) (1.7.1)\n",
            "Requirement already satisfied: networkx>=2.0 in /usr/local/lib/python3.7/dist-packages (from scikit-image>=0.11.0->imgaug==0.2.9->keras_segmentation) (2.6.2)\n",
            "Requirement already satisfied: PyWavelets>=0.4.0 in /usr/local/lib/python3.7/dist-packages (from scikit-image>=0.11.0->imgaug==0.2.9->keras_segmentation) (1.1.1)\n",
            "Requirement already satisfied: python-dateutil>=2.1 in /usr/local/lib/python3.7/dist-packages (from matplotlib->imgaug==0.2.9->keras_segmentation) (2.8.2)\n",
            "Requirement already satisfied: cycler>=0.10 in /usr/local/lib/python3.7/dist-packages (from matplotlib->imgaug==0.2.9->keras_segmentation) (0.10.0)\n",
            "Requirement already satisfied: pyparsing!=2.0.4,!=2.1.2,!=2.1.6,>=2.0.1 in /usr/local/lib/python3.7/dist-packages (from matplotlib->imgaug==0.2.9->keras_segmentation) (2.4.7)\n",
            "Requirement already satisfied: kiwisolver>=1.0.1 in /usr/local/lib/python3.7/dist-packages (from matplotlib->imgaug==0.2.9->keras_segmentation) (1.3.1)\n",
            "Verifying training dataset\n"
          ]
        },
        {
          "output_type": "stream",
          "name": "stderr",
          "text": [
            "100%|██████████| 612/612 [00:04<00:00, 125.39it/s]\n",
            "/usr/local/lib/python3.7/dist-packages/keras/engine/training.py:1972: UserWarning: `Model.fit_generator` is deprecated and will be removed in a future version. Please use `Model.fit`, which supports generators.\n",
            "  warnings.warn('`Model.fit_generator` is deprecated and '\n"
          ]
        },
        {
          "output_type": "stream",
          "name": "stdout",
          "text": [
            "Dataset verified! \n",
            "Epoch 1/20\n",
            "  6/512 [..............................] - ETA: 6:19 - loss: 1.0380 - accuracy: 0.5582WARNING:tensorflow:Callback method `on_train_batch_end` is slow compared to the batch time (batch time: 0.3090s vs `on_train_batch_end` time: 0.4386s). Check your callbacks.\n",
            "512/512 [==============================] - 386s 751ms/step - loss: 0.8891 - accuracy: 0.5554\n",
            "saved  /usr/local/vgg_unet_1_config.json.0\n",
            "Epoch 2/20\n",
            "512/512 [==============================] - 384s 751ms/step - loss: 0.7791 - accuracy: 0.5296\n",
            "saved  /usr/local/vgg_unet_1_config.json.1\n",
            "Epoch 3/20\n",
            "512/512 [==============================] - 385s 751ms/step - loss: 0.7358 - accuracy: 0.5368\n",
            "saved  /usr/local/vgg_unet_1_config.json.2\n",
            "Epoch 4/20\n",
            "512/512 [==============================] - 384s 751ms/step - loss: 0.7078 - accuracy: 0.5611\n",
            "saved  /usr/local/vgg_unet_1_config.json.3\n",
            "Epoch 5/20\n",
            "512/512 [==============================] - 384s 751ms/step - loss: 0.6852 - accuracy: 0.5952\n",
            "saved  /usr/local/vgg_unet_1_config.json.4\n",
            "Epoch 6/20\n",
            "512/512 [==============================] - 384s 751ms/step - loss: 0.6635 - accuracy: 0.6338\n",
            "saved  /usr/local/vgg_unet_1_config.json.5\n",
            "Epoch 7/20\n",
            "512/512 [==============================] - 384s 751ms/step - loss: 0.6425 - accuracy: 0.6769\n",
            "saved  /usr/local/vgg_unet_1_config.json.6\n",
            "Epoch 8/20\n",
            "512/512 [==============================] - 384s 751ms/step - loss: 0.6220 - accuracy: 0.7190\n",
            "saved  /usr/local/vgg_unet_1_config.json.7\n",
            "Epoch 9/20\n",
            "512/512 [==============================] - 384s 751ms/step - loss: 0.6008 - accuracy: 0.7599\n",
            "saved  /usr/local/vgg_unet_1_config.json.8\n",
            "Epoch 10/20\n",
            "512/512 [==============================] - 384s 751ms/step - loss: 0.5789 - accuracy: 0.8001\n",
            "saved  /usr/local/vgg_unet_1_config.json.9\n",
            "Epoch 11/20\n",
            "512/512 [==============================] - 384s 751ms/step - loss: 0.5567 - accuracy: 0.8346\n",
            "saved  /usr/local/vgg_unet_1_config.json.10\n",
            "Epoch 12/20\n",
            "512/512 [==============================] - 387s 756ms/step - loss: 0.5332 - accuracy: 0.8669\n",
            "saved  /usr/local/vgg_unet_1_config.json.11\n",
            "Epoch 13/20\n",
            "512/512 [==============================] - 387s 756ms/step - loss: 0.5087 - accuracy: 0.8955\n",
            "saved  /usr/local/vgg_unet_1_config.json.12\n",
            "Epoch 14/20\n",
            "512/512 [==============================] - 388s 757ms/step - loss: 0.4833 - accuracy: 0.9183\n",
            "saved  /usr/local/vgg_unet_1_config.json.13\n",
            "Epoch 15/20\n",
            "512/512 [==============================] - 389s 761ms/step - loss: 0.4568 - accuracy: 0.9382\n",
            "saved  /usr/local/vgg_unet_1_config.json.14\n",
            "Epoch 16/20\n",
            "512/512 [==============================] - 390s 761ms/step - loss: 0.4291 - accuracy: 0.9546\n",
            "saved  /usr/local/vgg_unet_1_config.json.15\n",
            "Epoch 17/20\n",
            "512/512 [==============================] - 390s 761ms/step - loss: 0.4008 - accuracy: 0.9670\n",
            "saved  /usr/local/vgg_unet_1_config.json.16\n",
            "Epoch 18/20\n",
            "512/512 [==============================] - 390s 761ms/step - loss: 0.3717 - accuracy: 0.9768\n",
            "saved  /usr/local/vgg_unet_1_config.json.17\n",
            "Epoch 19/20\n",
            "512/512 [==============================] - 390s 761ms/step - loss: 0.3423 - accuracy: 0.9841\n",
            "saved  /usr/local/vgg_unet_1_config.json.18\n",
            "Epoch 20/20\n",
            "512/512 [==============================] - 389s 760ms/step - loss: 0.3128 - accuracy: 0.9893\n",
            "saved  /usr/local/vgg_unet_1_config.json.19\n"
          ]
        },
        {
          "output_type": "error",
          "ename": "AttributeError",
          "evalue": "ignored",
          "traceback": [
            "\u001b[0;31m---------------------------------------------------------------------------\u001b[0m",
            "\u001b[0;31mAttributeError\u001b[0m                            Traceback (most recent call last)",
            "\u001b[0;32m<ipython-input-3-a2cf3d1c8f4d>\u001b[0m in \u001b[0;36m<module>\u001b[0;34m()\u001b[0m\n\u001b[1;32m     15\u001b[0m out = model.predict_segmentation(\n\u001b[1;32m     16\u001b[0m     \u001b[0minp\u001b[0m\u001b[0;34m=\u001b[0m\u001b[0;34m\"dataset1/images_prepped_test/0016E5_07965.png\"\u001b[0m\u001b[0;34m,\u001b[0m\u001b[0;34m\u001b[0m\u001b[0;34m\u001b[0m\u001b[0m\n\u001b[0;32m---> 17\u001b[0;31m     \u001b[0mout_fname\u001b[0m\u001b[0;34m=\u001b[0m\u001b[0;34m\"/tmp/out.png\"\u001b[0m\u001b[0;34m\u001b[0m\u001b[0;34m\u001b[0m\u001b[0m\n\u001b[0m\u001b[1;32m     18\u001b[0m )\n\u001b[1;32m     19\u001b[0m \u001b[0;34m\u001b[0m\u001b[0m\n",
            "\u001b[0;32m/usr/local/lib/python3.7/dist-packages/keras_segmentation/predict.py\u001b[0m in \u001b[0;36mpredict\u001b[0;34m(model, inp, out_fname, checkpoints_path, overlay_img, class_names, show_legends, colors, prediction_width, prediction_height)\u001b[0m\n\u001b[1;32m    140\u001b[0m         \u001b[0minp\u001b[0m \u001b[0;34m=\u001b[0m \u001b[0mcv2\u001b[0m\u001b[0;34m.\u001b[0m\u001b[0mimread\u001b[0m\u001b[0;34m(\u001b[0m\u001b[0minp\u001b[0m\u001b[0;34m)\u001b[0m\u001b[0;34m\u001b[0m\u001b[0;34m\u001b[0m\u001b[0m\n\u001b[1;32m    141\u001b[0m \u001b[0;34m\u001b[0m\u001b[0m\n\u001b[0;32m--> 142\u001b[0;31m     \u001b[0;32massert\u001b[0m \u001b[0mlen\u001b[0m\u001b[0;34m(\u001b[0m\u001b[0minp\u001b[0m\u001b[0;34m.\u001b[0m\u001b[0mshape\u001b[0m\u001b[0;34m)\u001b[0m \u001b[0;34m==\u001b[0m \u001b[0;36m3\u001b[0m\u001b[0;34m,\u001b[0m \u001b[0;34m\"Image should be h,w,3 \"\u001b[0m\u001b[0;34m\u001b[0m\u001b[0;34m\u001b[0m\u001b[0m\n\u001b[0m\u001b[1;32m    143\u001b[0m \u001b[0;34m\u001b[0m\u001b[0m\n\u001b[1;32m    144\u001b[0m     \u001b[0moutput_width\u001b[0m \u001b[0;34m=\u001b[0m \u001b[0mmodel\u001b[0m\u001b[0;34m.\u001b[0m\u001b[0moutput_width\u001b[0m\u001b[0;34m\u001b[0m\u001b[0;34m\u001b[0m\u001b[0m\n",
            "\u001b[0;31mAttributeError\u001b[0m: 'NoneType' object has no attribute 'shape'"
          ]
        }
      ]
    }
  ]
}